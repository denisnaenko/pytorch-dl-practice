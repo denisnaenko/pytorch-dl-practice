{
 "cells": [
  {
   "cell_type": "markdown",
   "metadata": {},
   "source": [
    "## Задание 1: Создание и манипуляции с тензорами"
   ]
  },
  {
   "cell_type": "code",
   "execution_count": 5,
   "metadata": {},
   "outputs": [],
   "source": [
    "import torch"
   ]
  },
  {
   "cell_type": "markdown",
   "metadata": {},
   "source": [
    "### 1.1 Создание тензоров\n",
    "\n",
    "Создайте следующие тензоры:\n",
    "1) Тензор размером 3x4, заполненный случайными числами от 0 до 1\n",
    "2) Тензор размером 2x3x4, заполненный нулями\n",
    "3) Тензор размером 5x5, заполненный единицами\n",
    "4) Тензор размером 4x4 с числами от 0 до 15 (используйте reshape)"
   ]
  },
  {
   "cell_type": "code",
   "execution_count": 6,
   "metadata": {},
   "outputs": [
    {
     "name": "stdout",
     "output_type": "stream",
     "text": [
      "tensor([[0.1310, 0.3668, 0.7440, 0.7981],\n",
      "        [0.7130, 0.5242, 0.9143, 0.2573],\n",
      "        [0.5771, 0.9701, 0.9154, 0.5376]])\n"
     ]
    }
   ],
   "source": [
    "# 1) Тензор размером 3x4, заполненный случайными числами от 0 до 1\n",
    "rand_tensor = torch.rand(3, 4)\n",
    "print(rand_tensor)"
   ]
  },
  {
   "cell_type": "code",
   "execution_count": 7,
   "metadata": {},
   "outputs": [
    {
     "name": "stdout",
     "output_type": "stream",
     "text": [
      "tensor([[[0., 0., 0., 0.],\n",
      "         [0., 0., 0., 0.],\n",
      "         [0., 0., 0., 0.]],\n",
      "\n",
      "        [[0., 0., 0., 0.],\n",
      "         [0., 0., 0., 0.],\n",
      "         [0., 0., 0., 0.]]])\n"
     ]
    }
   ],
   "source": [
    "# 2) Тензор размером 2x3x4, заполненный нулями\n",
    "zeros_tensor = torch.zeros(2,3,4)\n",
    "print(zeros_tensor) "
   ]
  },
  {
   "cell_type": "code",
   "execution_count": 8,
   "metadata": {},
   "outputs": [
    {
     "name": "stdout",
     "output_type": "stream",
     "text": [
      "tensor([[1., 1., 1., 1., 1.],\n",
      "        [1., 1., 1., 1., 1.],\n",
      "        [1., 1., 1., 1., 1.],\n",
      "        [1., 1., 1., 1., 1.],\n",
      "        [1., 1., 1., 1., 1.]])\n"
     ]
    }
   ],
   "source": [
    "# 3) Тензор размером 5x5, заполненный единицами\n",
    "ones_tensor = torch.ones(5,5)\n",
    "print(ones_tensor)"
   ]
  },
  {
   "cell_type": "code",
   "execution_count": 9,
   "metadata": {},
   "outputs": [
    {
     "name": "stdout",
     "output_type": "stream",
     "text": [
      "tensor([[ 0,  1,  2,  3],\n",
      "        [ 4,  5,  6,  7],\n",
      "        [ 8,  9, 10, 11],\n",
      "        [12, 13, 14, 15]])\n"
     ]
    }
   ],
   "source": [
    "# 4) Тензор размером 4x4 c числами от 0 до 15 (использовать reshape)\n",
    "x_tensor = torch.arange(16).reshape(4,4)\n",
    "print(x_tensor)"
   ]
  },
  {
   "cell_type": "markdown",
   "metadata": {},
   "source": [
    "### 1.2 Операции с тензорами\n",
    "\n",
    "*Дано:* тензор A размером 3x4 и тензор B размером 4x3 \n",
    "\n",
    "*Выполните:*\n",
    "\n",
    "1) Транспонирование тензора A\n",
    "2) Матричное умножение A и B\n",
    "3) Поэлементное умножение A и транспонированного B\n",
    "4) Вычислите сумму всех элементов тензора A"
   ]
  },
  {
   "cell_type": "code",
   "execution_count": 10,
   "metadata": {},
   "outputs": [
    {
     "name": "stdout",
     "output_type": "stream",
     "text": [
      "A tensor: \n",
      " tensor([[ 0,  1,  2,  3],\n",
      "        [ 4,  5,  6,  7],\n",
      "        [ 8,  9, 10, 11]])\n",
      "\n",
      "B tensor: \n",
      " tensor([[ 0,  1,  2],\n",
      "        [ 3,  4,  5],\n",
      "        [ 6,  7,  8],\n",
      "        [ 9, 10, 11]])\n"
     ]
    }
   ],
   "source": [
    "A = torch.arange(12).reshape(3,4)\n",
    "B = torch.arange(12).reshape(4,3)\n",
    "\n",
    "print(f'A tensor: \\n {A}\\n')\n",
    "print(f'B tensor: \\n {B}')"
   ]
  },
  {
   "cell_type": "code",
   "execution_count": 11,
   "metadata": {},
   "outputs": [
    {
     "name": "stdout",
     "output_type": "stream",
     "text": [
      "A transposed: \n",
      " tensor([[ 0,  4,  8],\n",
      "        [ 1,  5,  9],\n",
      "        [ 2,  6, 10],\n",
      "        [ 3,  7, 11]])\n"
     ]
    }
   ],
   "source": [
    "# 1) Транспонирование тензора A\n",
    "print(f'A transposed: \\n {A.T}')"
   ]
  },
  {
   "cell_type": "code",
   "execution_count": 12,
   "metadata": {},
   "outputs": [
    {
     "name": "stdout",
     "output_type": "stream",
     "text": [
      "A matmul B: \n",
      " tensor([[ 42,  48,  54],\n",
      "        [114, 136, 158],\n",
      "        [186, 224, 262]])\n"
     ]
    }
   ],
   "source": [
    "# 2) Матричное умножение A и B\n",
    "print(f'A matmul B: \\n {A @ B}')"
   ]
  },
  {
   "cell_type": "code",
   "execution_count": 13,
   "metadata": {},
   "outputs": [
    {
     "name": "stdout",
     "output_type": "stream",
     "text": [
      "A mul B.T: \n",
      " tensor([[  0,   3,  12,  27],\n",
      "        [  4,  20,  42,  70],\n",
      "        [ 16,  45,  80, 121]])\n"
     ]
    }
   ],
   "source": [
    "# 3) Поэлементное умножение A и транспонированного B\n",
    "print(f'A mul B.T: \\n {A * B.T}')"
   ]
  },
  {
   "cell_type": "code",
   "execution_count": 14,
   "metadata": {},
   "outputs": [
    {
     "name": "stdout",
     "output_type": "stream",
     "text": [
      "tensor(66)\n"
     ]
    }
   ],
   "source": [
    "# 4) Вычислите сумму всех элементов тензора A\n",
    "print(A.sum())"
   ]
  },
  {
   "cell_type": "markdown",
   "metadata": {},
   "source": [
    "### 1.3 Индексация и срезы\n",
    "\n",
    "Создайте тензор размером 5x5x5. Извлеките:\n",
    "\n",
    "1) Первую строку\n",
    "2) Последний столбец\n",
    "3) Подматрицу размером 2x2 из центра тензора\n",
    "4) Все элементы с четными индексами"
   ]
  },
  {
   "cell_type": "code",
   "execution_count": 16,
   "metadata": {},
   "outputs": [
    {
     "data": {
      "text/plain": [
       "tensor([[[  0,   1,   2,   3,   4],\n",
       "         [  5,   6,   7,   8,   9],\n",
       "         [ 10,  11,  12,  13,  14],\n",
       "         [ 15,  16,  17,  18,  19],\n",
       "         [ 20,  21,  22,  23,  24]],\n",
       "\n",
       "        [[ 25,  26,  27,  28,  29],\n",
       "         [ 30,  31,  32,  33,  34],\n",
       "         [ 35,  36,  37,  38,  39],\n",
       "         [ 40,  41,  42,  43,  44],\n",
       "         [ 45,  46,  47,  48,  49]],\n",
       "\n",
       "        [[ 50,  51,  52,  53,  54],\n",
       "         [ 55,  56,  57,  58,  59],\n",
       "         [ 60,  61,  62,  63,  64],\n",
       "         [ 65,  66,  67,  68,  69],\n",
       "         [ 70,  71,  72,  73,  74]],\n",
       "\n",
       "        [[ 75,  76,  77,  78,  79],\n",
       "         [ 80,  81,  82,  83,  84],\n",
       "         [ 85,  86,  87,  88,  89],\n",
       "         [ 90,  91,  92,  93,  94],\n",
       "         [ 95,  96,  97,  98,  99]],\n",
       "\n",
       "        [[100, 101, 102, 103, 104],\n",
       "         [105, 106, 107, 108, 109],\n",
       "         [110, 111, 112, 113, 114],\n",
       "         [115, 116, 117, 118, 119],\n",
       "         [120, 121, 122, 123, 124]]])"
      ]
     },
     "execution_count": 16,
     "metadata": {},
     "output_type": "execute_result"
    }
   ],
   "source": [
    "tensor = torch.arange(125).reshape(5,5,5)\n",
    "tensor"
   ]
  },
  {
   "cell_type": "markdown",
   "metadata": {},
   "source": [
    "Если под строкой в данном контексте понимать второе измерение (ось 1), то первая строка - это `tensor[i, 0]` для любого `i`. Например, для первой матрицы `tensor[0]`:"
   ]
  },
  {
   "cell_type": "code",
   "execution_count": 17,
   "metadata": {},
   "outputs": [
    {
     "data": {
      "text/plain": [
       "tensor([0, 1, 2, 3, 4])"
      ]
     },
     "execution_count": 17,
     "metadata": {},
     "output_type": "execute_result"
    }
   ],
   "source": [
    "# 1) Первая строка\n",
    "tensor[0, 0]"
   ]
  },
  {
   "cell_type": "markdown",
   "metadata": {},
   "source": [
    "Если под столбцом понимается последнее измерение (ось 2), то последний столбец - это `tensor[i, :, -1]` для любого `i`. Например, для последней матрицы `tensor[-1]`:"
   ]
  },
  {
   "cell_type": "code",
   "execution_count": 18,
   "metadata": {},
   "outputs": [
    {
     "data": {
      "text/plain": [
       "tensor([104, 109, 114, 119, 124])"
      ]
     },
     "execution_count": 18,
     "metadata": {},
     "output_type": "execute_result"
    }
   ],
   "source": [
    "# 2) Последний столбец\n",
    "tensor[-1, :, -1]"
   ]
  },
  {
   "cell_type": "code",
   "execution_count": 19,
   "metadata": {},
   "outputs": [
    {
     "data": {
      "text/plain": [
       "tensor([[56, 57],\n",
       "        [61, 62]])"
      ]
     },
     "execution_count": 19,
     "metadata": {},
     "output_type": "execute_result"
    }
   ],
   "source": [
    "# 3) Подматрица размером 2x2 из центра тензора\n",
    "center_depth = tensor.shape[0] // 2\n",
    "center_row = tensor.shape[1]  // 2\n",
    "center_col = tensor.shape[2] // 2\n",
    "\n",
    "tensor[center_depth, \n",
    "       center_row-1:center_row+1,\n",
    "       center_col-1:center_col+1]"
   ]
  },
  {
   "cell_type": "code",
   "execution_count": 20,
   "metadata": {},
   "outputs": [
    {
     "data": {
      "text/plain": [
       "tensor([[[  0,   2,   4],\n",
       "         [ 10,  12,  14],\n",
       "         [ 20,  22,  24]],\n",
       "\n",
       "        [[ 50,  52,  54],\n",
       "         [ 60,  62,  64],\n",
       "         [ 70,  72,  74]],\n",
       "\n",
       "        [[100, 102, 104],\n",
       "         [110, 112, 114],\n",
       "         [120, 122, 124]]])"
      ]
     },
     "execution_count": 20,
     "metadata": {},
     "output_type": "execute_result"
    }
   ],
   "source": [
    "# 4) Все элементы с чётными индексами\n",
    "tensor[::2, ::2, ::2]"
   ]
  },
  {
   "cell_type": "markdown",
   "metadata": {},
   "source": [
    "### 1.4 Работа с формами\n",
    "\n",
    "Создайте тензор размером 24 элемента. Преобразуйте его в формы:\n",
    "\n",
    "1) 2x12\n",
    "2) 3x8\n",
    "3) 4x6\n",
    "4) 2x3x4\n",
    "5) 2x2x2x3"
   ]
  },
  {
   "cell_type": "code",
   "execution_count": 21,
   "metadata": {},
   "outputs": [
    {
     "data": {
      "text/plain": [
       "tensor([ 0,  1,  2,  3,  4,  5,  6,  7,  8,  9, 10, 11, 12, 13, 14, 15, 16, 17,\n",
       "        18, 19, 20, 21, 22, 23])"
      ]
     },
     "execution_count": 21,
     "metadata": {},
     "output_type": "execute_result"
    }
   ],
   "source": [
    "tensor = torch.arange(24)\n",
    "tensor"
   ]
  },
  {
   "cell_type": "code",
   "execution_count": 22,
   "metadata": {},
   "outputs": [
    {
     "data": {
      "text/plain": [
       "tensor([[ 0,  1,  2,  3,  4,  5,  6,  7,  8,  9, 10, 11],\n",
       "        [12, 13, 14, 15, 16, 17, 18, 19, 20, 21, 22, 23]])"
      ]
     },
     "execution_count": 22,
     "metadata": {},
     "output_type": "execute_result"
    }
   ],
   "source": [
    "# 1) 2x12\n",
    "tensor.reshape(2,12)"
   ]
  },
  {
   "cell_type": "code",
   "execution_count": 23,
   "metadata": {},
   "outputs": [
    {
     "data": {
      "text/plain": [
       "tensor([[ 0,  1,  2,  3,  4,  5,  6,  7],\n",
       "        [ 8,  9, 10, 11, 12, 13, 14, 15],\n",
       "        [16, 17, 18, 19, 20, 21, 22, 23]])"
      ]
     },
     "execution_count": 23,
     "metadata": {},
     "output_type": "execute_result"
    }
   ],
   "source": [
    "# 2) 3x8\n",
    "tensor.reshape(3,8)"
   ]
  },
  {
   "cell_type": "code",
   "execution_count": 24,
   "metadata": {},
   "outputs": [
    {
     "data": {
      "text/plain": [
       "tensor([[ 0,  1,  2,  3,  4,  5],\n",
       "        [ 6,  7,  8,  9, 10, 11],\n",
       "        [12, 13, 14, 15, 16, 17],\n",
       "        [18, 19, 20, 21, 22, 23]])"
      ]
     },
     "execution_count": 24,
     "metadata": {},
     "output_type": "execute_result"
    }
   ],
   "source": [
    "# 3) 4x6\n",
    "tensor.reshape(4,6)"
   ]
  },
  {
   "cell_type": "code",
   "execution_count": 25,
   "metadata": {},
   "outputs": [
    {
     "data": {
      "text/plain": [
       "tensor([[[ 0,  1,  2,  3],\n",
       "         [ 4,  5,  6,  7],\n",
       "         [ 8,  9, 10, 11]],\n",
       "\n",
       "        [[12, 13, 14, 15],\n",
       "         [16, 17, 18, 19],\n",
       "         [20, 21, 22, 23]]])"
      ]
     },
     "execution_count": 25,
     "metadata": {},
     "output_type": "execute_result"
    }
   ],
   "source": [
    "# 4) 2x3x4\n",
    "tensor.reshape(2,3,4)"
   ]
  },
  {
   "cell_type": "code",
   "execution_count": 26,
   "metadata": {},
   "outputs": [
    {
     "data": {
      "text/plain": [
       "tensor([[[[ 0,  1,  2],\n",
       "          [ 3,  4,  5]],\n",
       "\n",
       "         [[ 6,  7,  8],\n",
       "          [ 9, 10, 11]]],\n",
       "\n",
       "\n",
       "        [[[12, 13, 14],\n",
       "          [15, 16, 17]],\n",
       "\n",
       "         [[18, 19, 20],\n",
       "          [21, 22, 23]]]])"
      ]
     },
     "execution_count": 26,
     "metadata": {},
     "output_type": "execute_result"
    }
   ],
   "source": [
    "# 5) 2x2x2x3\n",
    "tensor.reshape(2,2,2,3)"
   ]
  },
  {
   "cell_type": "code",
   "execution_count": null,
   "metadata": {},
   "outputs": [],
   "source": []
  }
 ],
 "metadata": {
  "kernelspec": {
   "display_name": ".venv",
   "language": "python",
   "name": "python3"
  },
  "language_info": {
   "codemirror_mode": {
    "name": "ipython",
    "version": 3
   },
   "file_extension": ".py",
   "mimetype": "text/x-python",
   "name": "python",
   "nbconvert_exporter": "python",
   "pygments_lexer": "ipython3",
   "version": "3.12.3"
  }
 },
 "nbformat": 4,
 "nbformat_minor": 2
}
