{
 "cells": [
  {
   "cell_type": "markdown",
   "metadata": {},
   "source": [
    "## Задание 2: Автоматическое дифференцирование"
   ]
  },
  {
   "cell_type": "code",
   "execution_count": 1,
   "metadata": {},
   "outputs": [],
   "source": [
    "import torch"
   ]
  },
  {
   "cell_type": "markdown",
   "metadata": {},
   "source": [
    "### 2.1 Простые вычисления с градиентами\n",
    "\n",
    "1) Создайте тензоры x, y, z с requires_grad=True\n",
    "2) Вычислите функцию: f(x,y,z) = x^2 + y^2 + z^2 + 2*x*y*z\n",
    "3) Найдите градиенты по всем переменным\n",
    "4) Проверьте результат аналитически"
   ]
  },
  {
   "cell_type": "code",
   "execution_count": 2,
   "metadata": {},
   "outputs": [],
   "source": [
    "# 1) Создайте тензоры x, y, z с requires_grad=True\n",
    "x = torch.tensor(2., requires_grad=True)\n",
    "y = torch.tensor(3., requires_grad=True)\n",
    "z = torch.tensor(4., requires_grad=True)"
   ]
  },
  {
   "cell_type": "code",
   "execution_count": 3,
   "metadata": {},
   "outputs": [
    {
     "name": "stdout",
     "output_type": "stream",
     "text": [
      "f(x,y,z): 77.0\n"
     ]
    }
   ],
   "source": [
    "# 2) Вычислите функцию: f(x,y,z) = x^2 + y^2 + z^2 + 2*x*y*z\n",
    "v = x**2 + y**2 + z**2 + 2*x*y*z\n",
    "print(f'f(x,y,z): {v}')"
   ]
  },
  {
   "cell_type": "code",
   "execution_count": 4,
   "metadata": {},
   "outputs": [
    {
     "name": "stdout",
     "output_type": "stream",
     "text": [
      "x.grad: 28.0\n",
      "y.grad: 22.0\n",
      "z.grad: 20.0\n"
     ]
    }
   ],
   "source": [
    "# 3) Найдите градиенты по всем переменным\n",
    "v.backward()\n",
    "\n",
    "print(f'x.grad: {x.grad}')\n",
    "print(f'y.grad: {y.grad}')\n",
    "print(f'z.grad: {z.grad}')"
   ]
  },
  {
   "cell_type": "markdown",
   "metadata": {},
   "source": [
    "4\\) Проверьте результат аналитически\n",
    "\n",
    "Чтобы проверить результат, самостоятельно вычислим частные производные функции по каждой переменной ($x=2; y=3; z=4$), которые вместе образуют градиент.\n",
    "\n",
    "\n",
    "Если $f(x, y, z) = x^{2} + y^{2} + z^{2} + 2xyz$, \n",
    "\n",
    "то\n",
    "$$\n",
    "\\nabla f(x, y, z) = \n",
    "\\left[\n",
    "\\frac{\\partial f}{\\partial x},\n",
    "\\frac{\\partial f}{\\partial y},\n",
    "\\frac{\\partial f}{\\partial z}\n",
    "\\right]\n",
    "$$\n",
    "\n",
    "$$\n",
    "\\frac{\\partial f}{\\partial x} = 2x + 2yz = 4 + 24 = 28\n",
    "$$\n",
    "$$\n",
    "\\frac{\\partial f}{\\partial y} = 2y + 2xz = 6 + 16 = 22\n",
    "$$\n",
    "$$\n",
    "\\frac{\\partial f}{\\partial z} = 2z + 2xy = 8 + 12 = 20\n",
    "$$"
   ]
  },
  {
   "cell_type": "markdown",
   "metadata": {},
   "source": [
    "### 2.2 Градиент функции потерь\n",
    "\n",
    "1) Реализуйте функцию MSE (Mean Squared Error):\n",
    "\n",
    "    MSE = (1/n) * Σ(y_pred - y_true)^2, где y_pred = w * x + b (линейная функция)\n",
    "\n",
    "2) Найдите градиенты по w и b"
   ]
  },
  {
   "cell_type": "code",
   "execution_count": 5,
   "metadata": {},
   "outputs": [],
   "source": [
    "# 1) Реализуйте функцию MSE\n",
    "def MSE(y_pred, y_true):\n",
    "    return ((y_pred - y_true) ** 2).mean()"
   ]
  },
  {
   "cell_type": "markdown",
   "metadata": {},
   "source": [
    "Сравним созданную функцию MSE с встроенной функцией MSELoss:"
   ]
  },
  {
   "cell_type": "code",
   "execution_count": 6,
   "metadata": {},
   "outputs": [
    {
     "name": "stdout",
     "output_type": "stream",
     "text": [
      "Custom MSE: 14.1844\n",
      "Built-in MSELoss: 14.1844\n"
     ]
    }
   ],
   "source": [
    "import torch.nn as nn\n",
    "\n",
    "x = torch.tensor([2.5, 4.8, 6.9, 9.5])\n",
    "y_true = torch.tensor([3, 5.0, 7.0, 9.0])\n",
    "\n",
    "w = torch.tensor(1.5, requires_grad=True)\n",
    "b = torch.tensor(0.5, requires_grad=True)\n",
    "\n",
    "# model: y_pred = w * x + b\n",
    "y_pred = w * x + b\n",
    "\n",
    "loss_custom = MSE(y_pred, y_true)\n",
    "loss_builtin = nn.MSELoss()(y_pred, y_true)\n",
    "\n",
    "print(f'Custom MSE: {loss_custom:.4f}')\n",
    "print(f'Built-in MSELoss: {loss_builtin:.4f}')"
   ]
  },
  {
   "cell_type": "code",
   "execution_count": 7,
   "metadata": {},
   "outputs": [
    {
     "name": "stdout",
     "output_type": "stream",
     "text": [
      "w.grad: 48.63750457763672\n",
      "b.grad: 6.77500057220459\n"
     ]
    }
   ],
   "source": [
    "# 2) Найдите градиенты по w и b\n",
    "loss_custom.backward()\n",
    "\n",
    "print(f'w.grad: {w.grad}')\n",
    "print(f'b.grad: {b.grad}')"
   ]
  },
  {
   "cell_type": "markdown",
   "metadata": {},
   "source": [
    "### 2.3 Цепное правило\n",
    "\n",
    "1. Реализуйте составную функцию: f(x) = sin(x^2 + 1)\n",
    "2. Найдите градиент df/dx\n",
    "3. Проверьте результат с помощью torch.autograd.grad"
   ]
  },
  {
   "cell_type": "code",
   "execution_count": 8,
   "metadata": {},
   "outputs": [],
   "source": [
    "# 1) Реализуйте составную функцию: f(x) = sin(x^2 + 1)\n",
    "x = torch.tensor(3., requires_grad=True)\n",
    "y = torch.sin(x**2 + 1)"
   ]
  },
  {
   "cell_type": "code",
   "execution_count": 9,
   "metadata": {},
   "outputs": [
    {
     "name": "stdout",
     "output_type": "stream",
     "text": [
      "x.grad from backward(): -5.03442907333374\n"
     ]
    }
   ],
   "source": [
    "# 2) Найдите градиент df/dx\n",
    "y.backward()\n",
    "\n",
    "# df/dx = 2x * cos(x^2 + 1) = 6cos(10) ≈ -5.03443\n",
    "print(f'x.grad from backward(): {x.grad}')"
   ]
  },
  {
   "cell_type": "code",
   "execution_count": 10,
   "metadata": {},
   "outputs": [
    {
     "name": "stdout",
     "output_type": "stream",
     "text": [
      "Gradient via torch.autograd.grad: (tensor(-5.0344),)\n"
     ]
    }
   ],
   "source": [
    "# 3) Проверьте результат с помощью torch.autograd.grad\n",
    "x = torch.tensor(3., requires_grad=True)\n",
    "y = torch.sin(x**2 + 1)\n",
    "\n",
    "grad = torch.autograd.grad(y, x)\n",
    "print(f'Gradient via torch.autograd.grad: {grad}')"
   ]
  }
 ],
 "metadata": {
  "kernelspec": {
   "display_name": ".venv",
   "language": "python",
   "name": "python3"
  },
  "language_info": {
   "codemirror_mode": {
    "name": "ipython",
    "version": 3
   },
   "file_extension": ".py",
   "mimetype": "text/x-python",
   "name": "python",
   "nbconvert_exporter": "python",
   "pygments_lexer": "ipython3",
   "version": "3.12.3"
  }
 },
 "nbformat": 4,
 "nbformat_minor": 2
}
